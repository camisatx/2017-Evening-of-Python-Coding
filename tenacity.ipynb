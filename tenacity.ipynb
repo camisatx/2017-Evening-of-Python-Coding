{
 "cells": [
  {
   "cell_type": "markdown",
   "metadata": {
    "collapsed": true
   },
   "source": [
    "# Tenacity"
   ]
  },
  {
   "cell_type": "markdown",
   "metadata": {},
   "source": [
    "## An Evening of Python Coding (May 2017)\n",
    "### Josh Schertz\n",
    "(https://joshschertz.com) (https://github.com/camisatx)"
   ]
  },
  {
   "cell_type": "markdown",
   "metadata": {},
   "source": [
    "___"
   ]
  },
  {
   "cell_type": "markdown",
   "metadata": {},
   "source": [
    "Tenacity is a Python 2 & 3 library designed to **retry** the execution of a task when an `Exception` occurs. Forked from the [retrying](https://github.com/rholder/retrying) library by [Julien Danjou](https://julien.danjou.info)."
   ]
  },
  {
   "cell_type": "markdown",
   "metadata": {},
   "source": [
    "URL: https://github.com/jd/tenacity"
   ]
  },
  {
   "cell_type": "markdown",
   "metadata": {},
   "source": [
    "## Features"
   ]
  },
  {
   "cell_type": "markdown",
   "metadata": {},
   "source": [
    "* [**Decorator**](http://thecodeship.com/patterns/guide-to-python-function-decorators/) functionality\n",
    "* Specify wait condition (fixed, exponential, random)\n",
    "* Specify stop condition (limity by time or number of attempts)\n",
    "* Customize based on Exception\n",
    "* Retry on coroutines"
   ]
  },
  {
   "cell_type": "markdown",
   "metadata": {},
   "source": [
    "___"
   ]
  },
  {
   "cell_type": "markdown",
   "metadata": {},
   "source": [
    "## Install"
   ]
  },
  {
   "cell_type": "markdown",
   "metadata": {
    "collapsed": false
   },
   "source": [
    "To install, run this within the command line:\n",
    "\n",
    "`pip install tenacity`"
   ]
  },
  {
   "cell_type": "markdown",
   "metadata": {
    "collapsed": true
   },
   "source": [
    "Import tenacity to get access to the `retry` and different waiting methods."
   ]
  },
  {
   "cell_type": "code",
   "execution_count": null,
   "metadata": {
    "collapsed": true
   },
   "outputs": [],
   "source": [
    "import tenacity"
   ]
  },
  {
   "cell_type": "markdown",
   "metadata": {},
   "source": [
    "Imports used for examples below."
   ]
  },
  {
   "cell_type": "code",
   "execution_count": null,
   "metadata": {
    "collapsed": true
   },
   "outputs": [],
   "source": [
    "from datetime import datetime\n",
    "import random"
   ]
  },
  {
   "cell_type": "markdown",
   "metadata": {},
   "source": [
    "___"
   ]
  },
  {
   "cell_type": "markdown",
   "metadata": {},
   "source": [
    "## Wait Conditions"
   ]
  },
  {
   "cell_type": "markdown",
   "metadata": {},
   "source": [
    "### Fixed Wait"
   ]
  },
  {
   "cell_type": "markdown",
   "metadata": {},
   "source": [
    "Wait a fixed number of seconds before trying again."
   ]
  },
  {
   "cell_type": "code",
   "execution_count": null,
   "metadata": {
    "collapsed": false,
    "scrolled": true
   },
   "outputs": [],
   "source": [
    "@tenacity.retry(wait=tenacity.wait_fixed(1))\n",
    "def lucky_number():\n",
    "    random_num = random.randint(0, 9)\n",
    "    cur_time = datetime.now().strftime('%H:%M:%S')\n",
    "    if random_num != 1:\n",
    "        print('%s - %s is not equal to 1' % (cur_time, random_num))\n",
    "        raise Exception()\n",
    "    print('%s - 1 was selected!' % cur_time)\n",
    "\n",
    "lucky_number()"
   ]
  },
  {
   "cell_type": "markdown",
   "metadata": {},
   "source": [
    "### Exponential Wait"
   ]
  },
  {
   "cell_type": "markdown",
   "metadata": {},
   "source": [
    "Wait based on an exponential back-off method `(2 sec -> 4 sec -> 8 sec -> 16 sec -> etc.)`."
   ]
  },
  {
   "cell_type": "code",
   "execution_count": null,
   "metadata": {
    "collapsed": false,
    "scrolled": true
   },
   "outputs": [],
   "source": [
    "@tenacity.retry(wait=tenacity.wait_exponential())\n",
    "def lucky_number():\n",
    "    random_num = random.randint(0, 2)\n",
    "    cur_time = datetime.now().strftime('%H:%M:%S')\n",
    "    if random_num != 1:\n",
    "        print('%s - %s is not equal to 1' % (cur_time, random_num))\n",
    "        raise Exception()\n",
    "    print('%s - 1 was selected!' % cur_time)\n",
    "\n",
    "lucky_number()"
   ]
  },
  {
   "cell_type": "markdown",
   "metadata": {},
   "source": [
    "### Random Wait"
   ]
  },
  {
   "cell_type": "markdown",
   "metadata": {},
   "source": [
    "Wait a random number of specified seconds."
   ]
  },
  {
   "cell_type": "code",
   "execution_count": null,
   "metadata": {
    "collapsed": false
   },
   "outputs": [],
   "source": [
    "@tenacity.retry(wait=tenacity.wait_random(5, 10))\n",
    "def lucky_number():\n",
    "    random_num = random.randint(0, 2)\n",
    "    cur_time = datetime.now().strftime('%H:%M:%S')\n",
    "    if random_num != 1:\n",
    "        print('%s - %s is not equal to 1' % (cur_time, random_num))\n",
    "        raise Exception()\n",
    "    print('%s - 1 was selected!' % cur_time)\n",
    "\n",
    "lucky_number()"
   ]
  },
  {
   "cell_type": "markdown",
   "metadata": {},
   "source": [
    "___"
   ]
  },
  {
   "cell_type": "markdown",
   "metadata": {},
   "source": [
    "## Stop Conditions"
   ]
  },
  {
   "cell_type": "markdown",
   "metadata": {},
   "source": [
    "### Number of Retries"
   ]
  },
  {
   "cell_type": "markdown",
   "metadata": {},
   "source": [
    "Retry every 2 seconds until there have been 5 retries."
   ]
  },
  {
   "cell_type": "code",
   "execution_count": null,
   "metadata": {
    "collapsed": false
   },
   "outputs": [],
   "source": [
    "@tenacity.retry(wait=tenacity.wait_fixed(2),\n",
    "                stop=tenacity.stop_after_attempt(5))\n",
    "def errors_will_happen():\n",
    "    print(datetime.now().strftime('%H:%M:%S'))\n",
    "    raise Exception()\n",
    "    \n",
    "errors_will_happen()"
   ]
  },
  {
   "cell_type": "markdown",
   "metadata": {},
   "source": [
    "### Time"
   ]
  },
  {
   "cell_type": "markdown",
   "metadata": {},
   "source": [
    "Retry every 0.5 seconds until 3 seconds has passed."
   ]
  },
  {
   "cell_type": "code",
   "execution_count": null,
   "metadata": {
    "collapsed": false
   },
   "outputs": [],
   "source": [
    "@tenacity.retry(wait=tenacity.wait_fixed(0.5),\n",
    "                stop=tenacity.stop_after_delay(3))\n",
    "def errors_will_happen():\n",
    "    print(datetime.now().strftime('%H:%M:%S.%f'))\n",
    "    raise Exception()\n",
    "    \n",
    "errors_will_happen()"
   ]
  },
  {
   "cell_type": "markdown",
   "metadata": {},
   "source": [
    "## Retry for Exception Type"
   ]
  },
  {
   "cell_type": "markdown",
   "metadata": {},
   "source": [
    "Retry every 0.5 seconds, but only for `IOError` exceptions."
   ]
  },
  {
   "cell_type": "code",
   "execution_count": null,
   "metadata": {
    "collapsed": false
   },
   "outputs": [],
   "source": [
    "@tenacity.retry(retry=tenacity.retry_if_exception_type(IOError),\n",
    "                wait=tenacity.wait_fixed(0.5))\n",
    "def lucky_file():\n",
    "    random_num = random.randint(0, 9)\n",
    "    cur_time = datetime.now().strftime('%H:%M:%S')\n",
    "    if random_num > 2:\n",
    "        print('%s - %s.txt does not exist.' % (cur_time, random_num))\n",
    "        raise IOError()\n",
    "    elif random_num == 2:\n",
    "        print('%s - %s.txt is corrupted.' % (cur_time, random_num))\n",
    "        raise SystemError()\n",
    "    print('%s - 1.txt was selected!' % cur_time)\n",
    "\n",
    "lucky_file()"
   ]
  },
  {
   "cell_type": "markdown",
   "metadata": {},
   "source": [
    "___"
   ]
  },
  {
   "cell_type": "markdown",
   "metadata": {},
   "source": [
    "## More Resources"
   ]
  },
  {
   "cell_type": "markdown",
   "metadata": {},
   "source": [
    "https://julien.danjou.info/blog/2017/python-tenacity"
   ]
  }
 ],
 "metadata": {
  "kernelspec": {
   "display_name": "Python 3",
   "language": "python",
   "name": "python3"
  },
  "language_info": {
   "codemirror_mode": {
    "name": "ipython",
    "version": 3
   },
   "file_extension": ".py",
   "mimetype": "text/x-python",
   "name": "python",
   "nbconvert_exporter": "python",
   "pygments_lexer": "ipython3",
   "version": "3.6.0"
  }
 },
 "nbformat": 4,
 "nbformat_minor": 2
}
